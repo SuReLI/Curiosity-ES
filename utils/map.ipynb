{
 "cells": [
  {
   "cell_type": "code",
   "execution_count": null,
   "metadata": {},
   "outputs": [],
   "source": [
    "import json \n",
    "from GymMaze.CMaze import CMaze\n",
    "import sys\n",
    "import matplotlib.pyplot as plt \n",
    "import numpy as np\n",
    "import os\n",
    "import time\n",
    "from random import sample "
   ]
  },
  {
   "cell_type": "code",
   "execution_count": null,
   "metadata": {},
   "outputs": [],
   "source": [
    "filename_env='SNAKE'\n",
    "file='filename'"
   ]
  },
  {
   "cell_type": "code",
   "execution_count": null,
   "metadata": {},
   "outputs": [],
   "source": [
    "shape=(100,100)\n",
    "mape=np.zeros(shape)\n",
    "\n",
    "fig = plt.figure(figsize=(4,4))\n",
    "colorbar=None\n",
    "gs = fig.add_gridspec(1, 1)\n",
    "ax0 = fig.add_subplot(gs[0, 0])\n",
    "\n",
    "# env \n",
    "env=CMaze(filename=filename_env)\n",
    "\n",
    "# deserialize\n",
    "with open(file) as json_file:\n",
    "    data = json.load(json_file)\n",
    "# behaviours\n",
    "archive_behaviours=data[\"archive_behaviours\"]\n",
    "new=[]\n",
    "for b in archive_behaviours: \n",
    "    new.append(b)\n",
    "    bn=np.array(b)\n",
    "archive_behaviours=new\n",
    "\n",
    "for b in archive_behaviours: \n",
    "    x=b[0]/200*(mape.shape[0]-1)\n",
    "    y=b[1]/200*(mape.shape[1]-1)\n",
    "    mape[(round(x),round(y))]+=1\n",
    "\n",
    "maxc=np.max(mape)\n",
    "minc=np.min(mape)\n",
    "mape=(mape-minc)/(maxc-minc)\n",
    "# ax1\n",
    "env.render_matplot(ax=ax0,behaviours=archive_behaviours,shade_map=mape)\n",
    "# plt.colorbar(ax=ax0)\n"
   ]
  }
 ],
 "metadata": {
  "kernelspec": {
   "display_name": "isae",
   "language": "python",
   "name": "python3"
  },
  "language_info": {
   "codemirror_mode": {
    "name": "ipython",
    "version": 3
   },
   "file_extension": ".py",
   "mimetype": "text/x-python",
   "name": "python",
   "nbconvert_exporter": "python",
   "pygments_lexer": "ipython3",
   "version": "3.6.8"
  },
  "orig_nbformat": 4,
  "vscode": {
   "interpreter": {
    "hash": "3d9075e5c0c8658a8405f781173410315e94777fcabb06c21799447783071566"
   }
  }
 },
 "nbformat": 4,
 "nbformat_minor": 2
}
